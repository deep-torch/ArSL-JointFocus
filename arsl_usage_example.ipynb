{
  "nbformat": 4,
  "nbformat_minor": 0,
  "metadata": {
    "colab": {
      "provenance": []
    },
    "kernelspec": {
      "name": "python3",
      "display_name": "Python 3"
    },
    "language_info": {
      "name": "python"
    }
  },
  "cells": [
    {
      "cell_type": "code",
      "execution_count": null,
      "metadata": {
        "id": "2usz-G2-o07-"
      },
      "outputs": [],
      "source": [
        "%%bash\n",
        "# install 7z library\n",
        "wget https://www.7-zip.org/a/7z2301-linux-x64.tar.xz\n",
        "tar -xf /content/7z2301-linux-x64.tar.xz"
      ]
    },
    {
      "cell_type": "code",
      "source": [
        "!/content/7zz x \"/content/arsl.7z\""
      ],
      "metadata": {
        "id": "o3y3kJrXo5n0"
      },
      "execution_count": null,
      "outputs": []
    },
    {
      "cell_type": "code",
      "source": [
        "!python -m arsl.download_data \\\n",
        "   --files_ids 1LIDFRTytBaQJwi6SCTxzDnIU8Tem4IqB 1Yae1QxZgXjzxmWJaGXY0UBWp0XIHBYCF 1TP0aI8GBN0nSVQ6wUdxkOIAVONUjjvKZ \\\n",
        "   --extract_dir /content/dataset"
      ],
      "metadata": {
        "id": "Y6NwDjpfo63T"
      },
      "execution_count": null,
      "outputs": []
    },
    {
      "cell_type": "code",
      "source": [
        "!python -m arsl.process_data --root_dir /content/dataset"
      ],
      "metadata": {
        "id": "vMOfRdfUpCi7"
      },
      "execution_count": null,
      "outputs": []
    },
    {
      "cell_type": "code",
      "source": [
        "!python -m arsl.train \\\n",
        "        --root_dir /content/dataset \\\n",
        "        --labels_path /content/dataset/labels.xlsx \\\n",
        "        --checkpoints_dir /content/ArSL_epochs_res \\\n",
        "        --model_type pretrained \\\n",
        "        --training_mode dependent"
      ],
      "metadata": {
        "id": "7Nkyz8GhpEFL"
      },
      "execution_count": null,
      "outputs": []
    }
  ]
}